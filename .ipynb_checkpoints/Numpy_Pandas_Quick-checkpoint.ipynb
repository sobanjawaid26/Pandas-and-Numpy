{
 "cells": [
  {
   "cell_type": "code",
   "execution_count": 1,
   "metadata": {
    "collapsed": true
   },
   "outputs": [],
   "source": [
    "import numpy as np\n",
    "lst1 = [1,2,3]\n",
    "array1 = np.array(lst1)"
   ]
  },
  {
   "cell_type": "code",
   "execution_count": 2,
   "metadata": {
    "collapsed": false
   },
   "outputs": [
    {
     "data": {
      "text/plain": [
       "[1, 2, 3]"
      ]
     },
     "execution_count": 2,
     "metadata": {},
     "output_type": "execute_result"
    }
   ],
   "source": [
    "lst1"
   ]
  },
  {
   "cell_type": "code",
   "execution_count": 3,
   "metadata": {
    "collapsed": false
   },
   "outputs": [
    {
     "data": {
      "text/plain": [
       "array([1, 2, 3])"
      ]
     },
     "execution_count": 3,
     "metadata": {},
     "output_type": "execute_result"
    }
   ],
   "source": [
    "array1"
   ]
  },
  {
   "cell_type": "code",
   "execution_count": 4,
   "metadata": {
    "collapsed": false
   },
   "outputs": [
    {
     "data": {
      "text/plain": [
       "list"
      ]
     },
     "execution_count": 4,
     "metadata": {},
     "output_type": "execute_result"
    }
   ],
   "source": [
    "type(lst1)"
   ]
  },
  {
   "cell_type": "code",
   "execution_count": 5,
   "metadata": {
    "collapsed": false
   },
   "outputs": [
    {
     "data": {
      "text/plain": [
       "numpy.ndarray"
      ]
     },
     "execution_count": 5,
     "metadata": {},
     "output_type": "execute_result"
    }
   ],
   "source": [
    "type(array1)"
   ]
  },
  {
   "cell_type": "code",
   "execution_count": 6,
   "metadata": {
    "collapsed": true
   },
   "outputs": [],
   "source": [
    "lst2 = [10,11,12]"
   ]
  },
  {
   "cell_type": "code",
   "execution_count": 7,
   "metadata": {
    "collapsed": true
   },
   "outputs": [],
   "source": [
    "array2 = np.array(lst2)"
   ]
  },
  {
   "cell_type": "code",
   "execution_count": 13,
   "metadata": {
    "collapsed": false
   },
   "outputs": [
    {
     "name": "stdout",
     "output_type": "stream",
     "text": [
      "Adding two lists  [1, 2, 3]  and  [10, 11, 12]  together:  [1, 2, 3, 10, 11, 12]\n"
     ]
    }
   ],
   "source": [
    "print(\"Adding two lists \",lst1, \" and \",lst2, \" together: \", lst1+lst2)"
   ]
  },
  {
   "cell_type": "code",
   "execution_count": 14,
   "metadata": {
    "collapsed": false
   },
   "outputs": [
    {
     "name": "stdout",
     "output_type": "stream",
     "text": [
      "Adding two numpy arrays  [1 2 3]  and  [10 11 12]  together :  [11 13 15]\n"
     ]
    }
   ],
   "source": [
    "print(\"Adding two numpy arrays \", array1, \" and \", array2, \" together : \", array1+array2)"
   ]
  },
  {
   "cell_type": "code",
   "execution_count": 16,
   "metadata": {
    "collapsed": false
   },
   "outputs": [
    {
     "name": "stdout",
     "output_type": "stream",
     "text": [
      "array2 multiplied by array1 [10 22 36]\n",
      "array2 divided by array1 [10.   5.5  4. ]\n",
      "array2 raised to power array1 [  10  121 1728]\n"
     ]
    }
   ],
   "source": [
    "print(\"array2 multiplied by array1\", array1*array2)\n",
    "print(\"array2 divided by array1\", array2/array1)\n",
    "print(\"array2 raised to power array1\", array2**array1)"
   ]
  },
  {
   "cell_type": "code",
   "execution_count": 18,
   "metadata": {
    "collapsed": false
   },
   "outputs": [
    {
     "name": "stdout",
     "output_type": "stream",
     "text": [
      "Sine :  [0.84147098 0.90929743 0.14112001]\n",
      "natural logarithm :  [0.         0.69314718 1.09861229]\n",
      "Base 10 logarithm :  [0.         0.30103    0.47712125]\n",
      "Base 2 logarithm :  [0.        1.        1.5849625]\n",
      "Exponential :  [ 2.71828183  7.3890561  20.08553692]\n"
     ]
    }
   ],
   "source": [
    "# Sine function\n",
    "print(\"Sine : \", np.sin(array1))\n",
    "\n",
    "# Logaritm\n",
    "print(\"natural logarithm : \", np.log(array1))\n",
    "print(\"Base 10 logarithm : \", np.log10(array1))\n",
    "print(\"Base 2 logarithm : \", np.log2(array1))\n",
    "\n",
    "#Exponential\n",
    "print(\"Exponential : \", np.exp(array1))"
   ]
  },
  {
   "cell_type": "markdown",
   "metadata": {},
   "source": [
    "# Mathematical operations with/on Numpy arrays\n",
    "### Logarithms\n",
    "##### (base)pow = number\n",
    "##### What Power of 2 is 16 ??\n",
    "##### i.e. log2(16) = ?\n",
    "##### log2(16) = 4\n",
    "##### (2)4 = 8\n",
    "##### log10(10) = 2\n",
    "\n",
    "##### (2)-3 = 1/8"
   ]
  },
  {
   "cell_type": "code",
   "execution_count": 26,
   "metadata": {
    "collapsed": false
   },
   "outputs": [
    {
     "name": "stdout",
     "output_type": "stream",
     "text": [
      "2.0\n"
     ]
    },
    {
     "data": {
      "text/plain": [
       "2.718281828459045"
      ]
     },
     "execution_count": 26,
     "metadata": {},
     "output_type": "execute_result"
    }
   ],
   "source": [
    "print(np.log10(100))\n",
    "np.e"
   ]
  },
  {
   "cell_type": "markdown",
   "metadata": {},
   "source": [
    "### How to generate arrays easily\n",
    "* `np.zeroes`\n",
    "* `np.ones`\n",
    "* `np.arange`\n",
    "* `np.linspace`"
   ]
  },
  {
   "cell_type": "code",
   "execution_count": 35,
   "metadata": {
    "collapsed": false
   },
   "outputs": [
    {
     "name": "stdout",
     "output_type": "stream",
     "text": [
      "A series of zeroes :  [0. 0. 0. 0. 0. 0. 0.]\n",
      "A series of ones :  [1. 1. 1. 1. 1. 1. 1. 1. 1.]\n",
      "A series of numbers :  [ 5  6  7  8  9 10 11 12 13 14 15]\n",
      "Numbers spaced apart by 2 :  [ 0  2  4  6  8 10]\n",
      "Numbers spaced apart by float:  [ 0.   2.5  5.   7.5 10. ]\n",
      "Every 5th number from 30 in reverse order:  [30 25 20 15 10  5  0]\n",
      "11 linearly spaced numbers spaced between 1 and 5 [1.  1.4 1.8 2.2 2.6 3.  3.4 3.8 4.2 4.6 5. ]\n"
     ]
    }
   ],
   "source": [
    "print(\"A series of zeroes : \", np.zeros(7))\n",
    "print(\"A series of ones : \", np.ones(9))\n",
    "print(\"A series of numbers : \", np.arange(5,16))\n",
    "print(\"Numbers spaced apart by 2 : \", np.arange (0,11,2))\n",
    "print(\"Numbers spaced apart by float: \", np.arange(0,11,2.5))\n",
    "print(\"Every 5th number from 30 in reverse order: \", np.arange(30,-1,-5))\n",
    "print(\"11 linearly spaced numbers spaced between 1 and 5\", np.linspace(1,5,11))"
   ]
  },
  {
   "cell_type": "markdown",
   "metadata": {},
   "source": [
    "## Multi-dimensional arrays"
   ]
  },
  {
   "cell_type": "code",
   "execution_count": 37,
   "metadata": {
    "collapsed": true
   },
   "outputs": [],
   "source": [
    "my_mat = [[1,2,3],[4,5,6],[7,8,9]]"
   ]
  },
  {
   "cell_type": "code",
   "execution_count": 38,
   "metadata": {
    "collapsed": true
   },
   "outputs": [],
   "source": [
    "mat = np.array(my_mat)"
   ]
  },
  {
   "cell_type": "code",
   "execution_count": 39,
   "metadata": {
    "collapsed": false
   },
   "outputs": [
    {
     "data": {
      "text/plain": [
       "array([[1, 2, 3],\n",
       "       [4, 5, 6],\n",
       "       [7, 8, 9]])"
      ]
     },
     "execution_count": 39,
     "metadata": {},
     "output_type": "execute_result"
    }
   ],
   "source": [
    "mat"
   ]
  },
  {
   "cell_type": "code",
   "execution_count": 42,
   "metadata": {
    "collapsed": false
   },
   "outputs": [
    {
     "name": "stdout",
     "output_type": "stream",
     "text": [
      "[[1 2 3]\n",
      " [4 5 6]\n",
      " [7 8 9]]\n"
     ]
    }
   ],
   "source": [
    "print(mat)"
   ]
  },
  {
   "cell_type": "code",
   "execution_count": 41,
   "metadata": {
    "collapsed": false
   },
   "outputs": [
    {
     "name": "stdout",
     "output_type": "stream",
     "text": [
      "<class 'numpy.ndarray'>\n"
     ]
    }
   ],
   "source": [
    "print(type(mat))"
   ]
  },
  {
   "cell_type": "code",
   "execution_count": 50,
   "metadata": {
    "collapsed": false
   },
   "outputs": [
    {
     "name": "stdout",
     "output_type": "stream",
     "text": [
      "<class 'numpy.ndarray'>\n",
      "<class 'numpy.ndarray'>\n",
      "[[1.5 2.  3. ]\n",
      " [4.  5.  6. ]]\n"
     ]
    }
   ],
   "source": [
    "my_tuple = np.array([(1.5,2,3), (4,5,6)])\n",
    "print(type(my_tuple))\n",
    "mat_tuple = np.array(my_tuple)\n",
    "print(type(mat_tuple))\n",
    "print(mat_tuple)"
   ]
  },
  {
   "cell_type": "code",
   "execution_count": null,
   "metadata": {
    "collapsed": false
   },
   "outputs": [],
   "source": [
    "\n"
   ]
  },
  {
   "cell_type": "code",
   "execution_count": null,
   "metadata": {
    "collapsed": true
   },
   "outputs": [],
   "source": []
  }
 ],
 "metadata": {
  "anaconda-cloud": {},
  "kernelspec": {
   "display_name": "Python [conda root]",
   "language": "python",
   "name": "conda-root-py"
  },
  "language_info": {
   "codemirror_mode": {
    "name": "ipython",
    "version": 3
   },
   "file_extension": ".py",
   "mimetype": "text/x-python",
   "name": "python",
   "nbconvert_exporter": "python",
   "pygments_lexer": "ipython3",
   "version": "3.5.2"
  }
 },
 "nbformat": 4,
 "nbformat_minor": 1
}
